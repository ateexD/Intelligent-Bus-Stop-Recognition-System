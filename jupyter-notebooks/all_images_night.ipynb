{
 "cells": [
  {
   "cell_type": "markdown",
   "metadata": {},
   "source": [
    "# All-Image Approach - Night Classifier"
   ]
  },
  {
   "cell_type": "code",
   "execution_count": 1,
   "metadata": {
    "collapsed": true
   },
   "outputs": [],
   "source": [
    "import numpy as np\n",
    "import matplotlib.pyplot as plt\n",
    "import scipy.misc as sc\n",
    "from time import time\n",
    "from collections import Counter"
   ]
  },
  {
   "cell_type": "code",
   "execution_count": 2,
   "metadata": {
    "collapsed": true
   },
   "outputs": [],
   "source": [
    "d = {}\n",
    "bus_stop_names = [\"Medavakkam\", \"Mogappair East\", \"Pari Salai\"]\n",
    "for it in xrange(1, len(bus_stop_names)+1):\n",
    "    d[it] = bus_stop_names[it-1]"
   ]
  },
  {
   "cell_type": "code",
   "execution_count": 3,
   "metadata": {
    "collapsed": true
   },
   "outputs": [],
   "source": [
    "def image_resize(im):\n",
    "    im = sc.imresize(im, (32, 32, 3))\n",
    "    return im"
   ]
  },
  {
   "cell_type": "code",
   "execution_count": 4,
   "metadata": {
    "collapsed": false
   },
   "outputs": [
    {
     "name": "stdout",
     "output_type": "stream",
     "text": [
      "Reading train image 25\n",
      "Reading train image 50\n",
      "Reading train image 75\n",
      "Reading train image 100\n",
      "Reading train image 125\n",
      "Reading train image 150\n",
      "Reading train image 175\n",
      "Reading train image 200\n",
      "Reading train image 225\n",
      "Reading train image 250\n",
      "270\n"
     ]
    }
   ],
   "source": [
    "X_train = np.array(image_resize(plt.imread(\"./TrainDataNight/Train1.jpg\")).flatten().astype(\"float32\"))\n",
    "for i in range(2, 271):\n",
    "    if i % 25 == 0:\n",
    "        print \"Reading train image \" + str(i)\n",
    "    img = plt.imread(\"./TrainDataNight/Train\" + str(i) + \".jpg\")\n",
    "    X_train = np.vstack((X_train,image_resize(img).flatten().astype(\"float32\")))\n",
    "print len(X_train)"
   ]
  },
  {
   "cell_type": "code",
   "execution_count": 5,
   "metadata": {
    "collapsed": true
   },
   "outputs": [],
   "source": [
    "X_train = X_train / 255.0"
   ]
  },
  {
   "cell_type": "code",
   "execution_count": 6,
   "metadata": {
    "collapsed": true
   },
   "outputs": [],
   "source": [
    "y_train = []\n",
    "for bus_stop in range(1, 4):\n",
    "    for train_images in range(90):\n",
    "        y_train.append(bus_stop)\n",
    "y_train = np.array(y_train)"
   ]
  },
  {
   "cell_type": "code",
   "execution_count": 7,
   "metadata": {
    "collapsed": false
   },
   "outputs": [
    {
     "name": "stdout",
     "output_type": "stream",
     "text": [
      "(90,)\n"
     ]
    }
   ],
   "source": [
    "y_test = []\n",
    "for bus_stop in range(1, 4):\n",
    "    for test_images in range(30):\n",
    "        y_test.append(bus_stop)\n",
    "y_test = np.array(y_test)\n",
    "print y_test.shape"
   ]
  },
  {
   "cell_type": "code",
   "execution_count": 8,
   "metadata": {
    "collapsed": true
   },
   "outputs": [],
   "source": [
    "def compute_distances(X_train, X):\n",
    "    X = np.array(X)\n",
    "    X = X.astype(\"float32\")\n",
    "    X /= 255.0\n",
    "    num_test = X.shape[0]\n",
    "    num_train = X_train.shape[0]\n",
    "    dists = np.zeros((num_test, num_train))\n",
    "    dists = np.sqrt((np.square(X).sum(axis=1, keepdims=True)) - (2*X.dot(X_train.T)) + (np.square(X_train).sum(axis=1)))\n",
    "    return dists"
   ]
  },
  {
   "cell_type": "code",
   "execution_count": 9,
   "metadata": {
    "collapsed": false
   },
   "outputs": [
    {
     "name": "stdout",
     "output_type": "stream",
     "text": [
      "k = 1\n",
      "Accuracy: 1.0\n",
      "Time Taken: 0.00324201583862\n",
      "\n",
      "k = 2\n",
      "Accuracy: 1.0\n",
      "Time Taken: 0.00351715087891\n",
      "\n",
      "k = 3\n",
      "Accuracy: 1.0\n",
      "Time Taken: 0.0028989315033\n",
      "\n",
      "k = 4\n",
      "Accuracy: 0.966666666667\n",
      "Time Taken: 0.00416707992554\n",
      "\n",
      "k = 5\n",
      "Accuracy: 0.966666666667\n",
      "Time Taken: 0.00304794311523\n",
      "\n"
     ]
    }
   ],
   "source": [
    "x = 0\n",
    "X_test = np.zeros((90, np.prod(X_train.shape[1:])))\n",
    "for i in range(1, 31):\n",
    "    X_test_temp = image_resize(plt.imread(\"./TestDataNight/Medavakkam/Test\" + str(i) + \".jpg\")).flatten()\n",
    "    X_test[x, :] = X_test_temp\n",
    "    x += 1\n",
    "for i in range(1, 31):\n",
    "    X_test_temp = image_resize(plt.imread(\"./TestDataNight/Mogappair East/Test\" + str(i) + \".jpg\")).flatten()\n",
    "    X_test[x, :] = X_test_temp\n",
    "    x += 1\n",
    "for i in range(1, 31):\n",
    "    X_test_temp = image_resize(plt.imread(\"./TestDataNight/Pari Salai/Test\" + str(i) + \".jpg\")).flatten()\n",
    "    X_test[x, :] = X_test_temp\n",
    "    x += 1\n",
    "\n",
    "\n",
    "#print X_test.shape\n",
    "\n",
    "dis = compute_distances(X_train, X_test)\n",
    "\n",
    "for k in range(1, 6):\n",
    "    t1 = time()\n",
    "    count = 0\n",
    "    correct_classes = []\n",
    "    for i in range(dis.shape[0]):\n",
    "        l = y_train[np.argsort(dis[i, :])].flatten()\n",
    "        closest_y = l[:k]\n",
    "        correct_classes.append(Counter(closest_y).most_common(1)[0][0])\n",
    "    correct_classes = np.array(correct_classes)\n",
    "    #print \"Closest 10 images : \" + str(l[:10])\n",
    "    print \"k = \" + str(k)\n",
    "    correct_classes_final = np.sum([correct_classes == y_test])\n",
    "    print \"Accuracy: \" + str(float(correct_classes_final)/dis.shape[0])\n",
    "    t2 = time()\n",
    "    print \"Time Taken: \" + str(t2-t1)\n",
    "    print"
   ]
  }
 ],
 "metadata": {
  "kernelspec": {
   "display_name": "Python 2",
   "language": "python",
   "name": "python2"
  },
  "language_info": {
   "codemirror_mode": {
    "name": "ipython",
    "version": 2
   },
   "file_extension": ".py",
   "mimetype": "text/x-python",
   "name": "python",
   "nbconvert_exporter": "python",
   "pygments_lexer": "ipython2",
   "version": "2.7.13"
  }
 },
 "nbformat": 4,
 "nbformat_minor": 2
}
